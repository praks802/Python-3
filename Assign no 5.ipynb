{
 "cells": [
  {
   "cell_type": "markdown",
   "metadata": {},
   "source": [
    "Solution no 1"
   ]
  },
  {
   "cell_type": "code",
   "execution_count": 4,
   "metadata": {},
   "outputs": [],
   "source": [
    "def zero_div():\n",
    "    \n",
    "    try:\n",
    "        \n",
    "        a=5/0\n",
    "    except:\n",
    "        print('This will give zero division error')\n",
    "    \n"
   ]
  },
  {
   "cell_type": "code",
   "execution_count": 5,
   "metadata": {},
   "outputs": [
    {
     "name": "stdout",
     "output_type": "stream",
     "text": [
      "This will give zero division error\n"
     ]
    }
   ],
   "source": [
    "zero_div()"
   ]
  },
  {
   "cell_type": "markdown",
   "metadata": {},
   "source": [
    "Solution no 2"
   ]
  },
  {
   "cell_type": "code",
   "execution_count": 16,
   "metadata": {},
   "outputs": [
    {
     "data": {
      "text/plain": [
       "<sqlite3.Cursor at 0x1878fc1aea0>"
      ]
     },
     "execution_count": 16,
     "metadata": {},
     "output_type": "execute_result"
    }
   ],
   "source": [
    "import sqlite3\n",
    "#connecting with the database.\n",
    "db = sqlite3.connect(\"my_database3.db\")\n",
    "db.execute(\"drop table if exists grades1\")\n",
    "db.execute(\"create table grades1(subjects text, Verbs text, Objects text)\")\n",
    "db.execute(\"insert into grades1(subjects, Verbs, Objects) values('Americans', 'play','Baseball')\")\n",
    "db.execute(\"insert into grades1(subjects, Verbs, Objects) values('Americans', 'play','Cricket' )\")\n",
    "db.execute(\"insert into grades1(subjects, Verbs, Objects) values('Americans', 'watch','Baseball')\")\n",
    "db.execute(\"insert into grades1(subjects, Verbs, Objects) values('Americans', 'watch','Cricket' )\")\n",
    "db.execute(\"insert into grades1(subjects, Verbs, Objects) values('Indians', 'play','Baseball')\")\n",
    "db.execute(\"insert into grades1(subjects, Verbs, Objects) values('Indians', 'play','Cricket' )\")\n",
    "db.execute(\"insert into grades1(subjects, Verbs, Objects) values('Indians', 'watch','Baseball')\")\n",
    "db.execute(\"insert into grades1(subjects, Verbs, Objects) values('Indians', 'watch','Cricket' )\")\n"
   ]
  },
  {
   "cell_type": "code",
   "execution_count": 17,
   "metadata": {},
   "outputs": [],
   "source": [
    "db.commit()"
   ]
  },
  {
   "cell_type": "code",
   "execution_count": 18,
   "metadata": {},
   "outputs": [
    {
     "name": "stdout",
     "output_type": "stream",
     "text": [
      "('Americans', 'play', 'Baseball')\n",
      "('Americans', 'play', 'Cricket')\n",
      "('Americans', 'watch', 'Baseball')\n",
      "('Americans', 'watch', 'Cricket')\n",
      "('Indians', 'play', 'Baseball')\n",
      "('Indians', 'play', 'Cricket')\n",
      "('Indians', 'watch', 'Baseball')\n",
      "('Indians', 'watch', 'Cricket')\n",
      "------------------------------------------------------------\n"
     ]
    }
   ],
   "source": [
    "results = db.execute(\"select * from grades1\")\n",
    "for row in results:\n",
    "    print(row)\n",
    "print(\"-\" * 60 )"
   ]
  },
  {
   "cell_type": "code",
   "execution_count": null,
   "metadata": {},
   "outputs": [],
   "source": []
  }
 ],
 "metadata": {
  "kernelspec": {
   "display_name": "Python 3",
   "language": "python",
   "name": "python3"
  },
  "language_info": {
   "codemirror_mode": {
    "name": "ipython",
    "version": 3
   },
   "file_extension": ".py",
   "mimetype": "text/x-python",
   "name": "python",
   "nbconvert_exporter": "python",
   "pygments_lexer": "ipython3",
   "version": "3.7.3"
  }
 },
 "nbformat": 4,
 "nbformat_minor": 2
}
